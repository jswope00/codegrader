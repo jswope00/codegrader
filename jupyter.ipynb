{
 "cells": [
  {
   "cell_type": "markdown",
   "metadata": {},
   "source": [
    "# Pandas Series"
   ]
  },
  {
   "cell_type": "code",
   "execution_count": 3,
   "metadata": {},
   "outputs": [],
   "source": [
    "import pandas as pd"
   ]
  },
  {
   "cell_type": "markdown",
   "metadata": {},
   "source": [
    "A dictionary of time series data on the price of S&P 500 index going back to 1970. "
   ]
  },
  {
   "cell_type": "code",
   "execution_count": 5,
   "metadata": {},
   "outputs": [],
   "source": [
    "sp500 = {1970: 90.31, 1971: 93.49, 1972: 103.30, 1973: 118.40, 1974: 96.11, 1975: 72.56, 1976: 96.86, 1977: 103.80, 1978: 90.25, \n",
    "         1979: 99.71, 1980: 110.90, 1981: 133.00, 1982: 117.30, 1983: 144.30, 1984: 166.40, 1985: 171.60, 1986: 208.20, 1987: 264.50,\n",
    "        1988: 250.50, 1989: 285.40, 1990: 339.97, 1991: 325.49, 1992: 416.08, 1993: 435.23, 1994: 472.99, 1995: 465.25, 1996: 614.42,\n",
    "        1997: 766.22, 1998: 963.36, 1999: 1248.77, 2000: 1425.59, 2001: 1335.63, 2002: 1140.21, 2003: 895.84, 2004: 1132.52, 2005: 1181.41,\n",
    "        2006: 1278.73, 2007: 1424.16, 2008: 1378.76, 2009: 865.58, 2010: 1123.58, 2011: 1282.62, 2012: 1300.58, 2013: 1480.40, 2014: 1822.36,\n",
    "        2015: 2028.18, 2016: 1918.60, 2017: 2275.12, 2018: 2789.80}"
   ]
  },
  {
   "cell_type": "markdown",
   "metadata": {},
   "source": [
    "### Question 1: Create a Series"
   ]
  },
  {
   "cell_type": "markdown",
   "metadata": {},
   "source": [
    "Create a pandas series called <b>price</b> with years as index and prices as values. Give that series a name, <b>sp500</b>."
   ]
  },
  {
   "cell_type": "code",
   "execution_count": 6,
   "metadata": {},
   "outputs": [],
   "source": [
    "price = pd.Series(sp500, name = 'sp500')"
   ]
  },
  {
   "cell_type": "code",
   "execution_count": 18,
   "metadata": {},
   "outputs": [
    {
     "data": {
      "text/plain": [
       "'sp500'"
      ]
     },
     "execution_count": 18,
     "metadata": {},
     "output_type": "execute_result"
    }
   ],
   "source": [
    "price.name"
   ]
  },
  {
   "cell_type": "markdown",
   "metadata": {},
   "source": [
    "### Question 2: Return Indexes & Values"
   ]
  },
  {
   "cell_type": "markdown",
   "metadata": {},
   "source": [
    "Return the index as an Index object into the variable 'price_index' and the values as ndarray into the variable 'price_values'."
   ]
  },
  {
   "cell_type": "code",
   "execution_count": 12,
   "metadata": {},
   "outputs": [],
   "source": [
    "price_index = price.index"
   ]
  },
  {
   "cell_type": "code",
   "execution_count": 13,
   "metadata": {},
   "outputs": [],
   "source": [
    "price_values = price.values"
   ]
  },
  {
   "cell_type": "code",
   "execution_count": 15,
   "metadata": {},
   "outputs": [
    {
     "data": {
      "text/plain": [
       "Int64Index([1970, 1971, 1972, 1973, 1974, 1975, 1976, 1977, 1978, 1979, 1980,\n",
       "            1981, 1982, 1983, 1984, 1985, 1986, 1987, 1988, 1989, 1990, 1991,\n",
       "            1992, 1993, 1994, 1995, 1996, 1997, 1998, 1999, 2000, 2001, 2002,\n",
       "            2003, 2004, 2005, 2006, 2007, 2008, 2009, 2010, 2011, 2012, 2013,\n",
       "            2014, 2015, 2016, 2017, 2018],\n",
       "           dtype='int64')"
      ]
     },
     "execution_count": 15,
     "metadata": {},
     "output_type": "execute_result"
    }
   ],
   "source": [
    "price_index"
   ]
  },
  {
   "cell_type": "code",
   "execution_count": 16,
   "metadata": {},
   "outputs": [
    {
     "data": {
      "text/plain": [
       "array([  90.31,   93.49,  103.3 ,  118.4 ,   96.11,   72.56,   96.86,\n",
       "        103.8 ,   90.25,   99.71,  110.9 ,  133.  ,  117.3 ,  144.3 ,\n",
       "        166.4 ,  171.6 ,  208.2 ,  264.5 ,  250.5 ,  285.4 ,  339.97,\n",
       "        325.49,  416.08,  435.23,  472.99,  465.25,  614.42,  766.22,\n",
       "        963.36, 1248.77, 1425.59, 1335.63, 1140.21,  895.84, 1132.52,\n",
       "       1181.41, 1278.73, 1424.16, 1378.76,  865.58, 1123.58, 1282.62,\n",
       "       1300.58, 1480.4 , 1822.36, 2028.18, 1918.6 , 2275.12, 2789.8 ])"
      ]
     },
     "execution_count": 16,
     "metadata": {},
     "output_type": "execute_result"
    }
   ],
   "source": [
    "price_values"
   ]
  },
  {
   "cell_type": "markdown",
   "metadata": {},
   "source": [
    "### Question 3: Retreiving Rows"
   ]
  },
  {
   "cell_type": "markdown",
   "metadata": {},
   "source": [
    "Select the first 10 rows of the series <b>price</b> using the visualization index (hint: iloc), and place it into a variable called <i>first_ten_iloc</i>"
   ]
  },
  {
   "cell_type": "code",
   "execution_count": 22,
   "metadata": {},
   "outputs": [
    {
     "data": {
      "text/plain": [
       "1970     90.31\n",
       "1971     93.49\n",
       "1972    103.30\n",
       "1973    118.40\n",
       "1974     96.11\n",
       "1975     72.56\n",
       "1976     96.86\n",
       "1977    103.80\n",
       "1978     90.25\n",
       "1979     99.71\n",
       "Name: sp500, dtype: float64"
      ]
     },
     "execution_count": 22,
     "metadata": {},
     "output_type": "execute_result"
    }
   ],
   "source": [
    "first_ten_iloc = price.iloc[0:10]\n",
    "first_ten_iloc"
   ]
  },
  {
   "cell_type": "markdown",
   "metadata": {},
   "source": [
    "Select the first 10 rows of the series <b>price</b> using the method <b>head</b>, and place it into a variable called <i>first_ten_head</i>"
   ]
  },
  {
   "cell_type": "code",
   "execution_count": 23,
   "metadata": {},
   "outputs": [
    {
     "data": {
      "text/plain": [
       "1970     90.31\n",
       "1971     93.49\n",
       "1972    103.30\n",
       "1973    118.40\n",
       "1974     96.11\n",
       "1975     72.56\n",
       "1976     96.86\n",
       "1977    103.80\n",
       "1978     90.25\n",
       "1979     99.71\n",
       "Name: sp500, dtype: float64"
      ]
     },
     "execution_count": 23,
     "metadata": {},
     "output_type": "execute_result"
    }
   ],
   "source": [
    "first_ten_head = price.head(10)\n",
    "first_ten_head"
   ]
  },
  {
   "cell_type": "markdown",
   "metadata": {},
   "source": [
    "Select the last 5 rows of the series <b>price</b> using the method <b>tail</b>, and place it into a variable called <i>last_five_tail</i>"
   ]
  },
  {
   "cell_type": "code",
   "execution_count": 24,
   "metadata": {},
   "outputs": [
    {
     "data": {
      "text/plain": [
       "2014    1822.36\n",
       "2015    2028.18\n",
       "2016    1918.60\n",
       "2017    2275.12\n",
       "2018    2789.80\n",
       "Name: sp500, dtype: float64"
      ]
     },
     "execution_count": 24,
     "metadata": {},
     "output_type": "execute_result"
    }
   ],
   "source": [
    "last_five_tail = price.tail()\n",
    "last_five_tail"
   ]
  },
  {
   "cell_type": "markdown",
   "metadata": {},
   "source": [
    "### Question 4: Slicing a Series\n",
    "When would you use <b>iloc</b> vs. <b>loc</b> to slice a series? Use either to extract a new series from the original series for rows starting in the year 1980 and beyond, place it into a variable called <i>prices_1980_beyond</i>"
   ]
  },
  {
   "cell_type": "code",
   "execution_count": 80,
   "metadata": {},
   "outputs": [
    {
     "data": {
      "text/plain": [
       "35979.55000000001"
      ]
     },
     "execution_count": 80,
     "metadata": {},
     "output_type": "execute_result"
    }
   ],
   "source": [
    "prices_1980_beyond = price.loc[1980:]\n",
    "prices_1980_beyond.sum()"
   ]
  },
  {
   "cell_type": "markdown",
   "metadata": {},
   "source": [
    "### Dividends\n",
    "Dividends are a piece of the profits businesses that are a part of the S&P 500 index return to their shareholders. The dictionary data below is dividend yield by year for the S&P 500 index. This is percent data so ideally should be converted to the proportion form by dividing the series by 100. For example, the first entry is 3.49%. Convert that to 0.0349. So create a new series called <b>yld</b>, name it <b>sp500yield</b>, divide it by 100 and answer the questions below."
   ]
  },
  {
   "cell_type": "code",
   "execution_count": 26,
   "metadata": {},
   "outputs": [],
   "source": [
    "sp500div = {1970: 3.49, 1971: 3.1, 1972: 2.68, 1973: 3.57, 1974: 5.37, 1975: 4.15, 1976: 3.87, 1977: 4.98, 1978: 5.28, \n",
    "         1979: 5.24, 1980: 4.61, 1981: 5.36, 1982: 4.93, 1983: 4.31, 1984: 4.58, 1985: 3.81, 1986: 3.33, 1987: 3.66,\n",
    "        1988: 3.53, 1989: 3.17, 1990: 3.68, 1991: 3.14, 1992: 2.84, 1993: 2.7, 1994: 2.89, 1995: 2.24, 1996: 2,\n",
    "        1997: 1.61, 1998: 1.36, 1999: 1.17, 2000: 1.22, 2001: 1.37, 2002: 1.79, 2003: 1.61, 2004: 1.62, 2005: 1.76,\n",
    "        2006: 1.76, 2007: 1.87, 2008: 3.23, 2009: 2.02, 2010: 1.83, 2011: 2.13, 2012: 2.2, 2013: 1.94, 2014: 1.92,\n",
    "        2015: 2.11, 2016: 2.03, 2017: 1.84, 2018: 2.09}"
   ]
  },
  {
   "cell_type": "code",
   "execution_count": 27,
   "metadata": {},
   "outputs": [
    {
     "data": {
      "text/plain": [
       "1970    0.0349\n",
       "1971    0.0310\n",
       "1972    0.0268\n",
       "1973    0.0357\n",
       "1974    0.0537\n",
       "1975    0.0415\n",
       "1976    0.0387\n",
       "1977    0.0498\n",
       "1978    0.0528\n",
       "1979    0.0524\n",
       "1980    0.0461\n",
       "1981    0.0536\n",
       "1982    0.0493\n",
       "1983    0.0431\n",
       "1984    0.0458\n",
       "1985    0.0381\n",
       "1986    0.0333\n",
       "1987    0.0366\n",
       "1988    0.0353\n",
       "1989    0.0317\n",
       "1990    0.0368\n",
       "1991    0.0314\n",
       "1992    0.0284\n",
       "1993    0.0270\n",
       "1994    0.0289\n",
       "1995    0.0224\n",
       "1996    0.0200\n",
       "1997    0.0161\n",
       "1998    0.0136\n",
       "1999    0.0117\n",
       "2000    0.0122\n",
       "2001    0.0137\n",
       "2002    0.0179\n",
       "2003    0.0161\n",
       "2004    0.0162\n",
       "2005    0.0176\n",
       "2006    0.0176\n",
       "2007    0.0187\n",
       "2008    0.0323\n",
       "2009    0.0202\n",
       "2010    0.0183\n",
       "2011    0.0213\n",
       "2012    0.0220\n",
       "2013    0.0194\n",
       "2014    0.0192\n",
       "2015    0.0211\n",
       "2016    0.0203\n",
       "2017    0.0184\n",
       "2018    0.0209\n",
       "Name: sp500yield, dtype: float64"
      ]
     },
     "execution_count": 27,
     "metadata": {},
     "output_type": "execute_result"
    }
   ],
   "source": [
    "yld = pd.Series(sp500div, name = 'sp500yield') / 100\n",
    "yld"
   ]
  },
  {
   "cell_type": "markdown",
   "metadata": {},
   "source": [
    "### Question 5: Top, Bottom, Max, Min"
   ]
  },
  {
   "cell_type": "markdown",
   "metadata": {},
   "source": [
    "In one line of code, extract a series of the five highest dividend yielding years-values from the <b>yld</b> series sorted by index. Place it into a variable called <i>top_five_dividend_years</i>."
   ]
  },
  {
   "cell_type": "code",
   "execution_count": 30,
   "metadata": {},
   "outputs": [
    {
     "data": {
      "text/plain": [
       "1974    0.0537\n",
       "1977    0.0498\n",
       "1978    0.0528\n",
       "1979    0.0524\n",
       "1981    0.0536\n",
       "Name: sp500yield, dtype: float64"
      ]
     },
     "execution_count": 30,
     "metadata": {},
     "output_type": "execute_result"
    }
   ],
   "source": [
    "top_five_dividend_years = yld.nlargest(5).sort_index()\n",
    "top_five_dividend_years"
   ]
  },
  {
   "cell_type": "markdown",
   "metadata": {},
   "source": [
    "In one line of code, extract a series of the five lowest dividend yielding years-values from the <b>price</b> series (note the different series) series sorted by index. Place it into a variable called <i>bottom_five_price_years</i>."
   ]
  },
  {
   "cell_type": "code",
   "execution_count": 32,
   "metadata": {},
   "outputs": [
    {
     "data": {
      "text/plain": [
       "1970    90.31\n",
       "1971    93.49\n",
       "1974    96.11\n",
       "1975    72.56\n",
       "1978    90.25\n",
       "Name: sp500, dtype: float64"
      ]
     },
     "execution_count": 32,
     "metadata": {},
     "output_type": "execute_result"
    }
   ],
   "source": [
    "bottom_five_price_years = price.nsmallest(5).sort_index()\n",
    "bottom_five_price_years"
   ]
  },
  {
   "cell_type": "markdown",
   "metadata": {},
   "source": [
    "Complete the function to return the index of a row with the maximum and minimum values in a series"
   ]
  },
  {
   "cell_type": "code",
   "execution_count": 38,
   "metadata": {},
   "outputs": [
    {
     "data": {
      "text/plain": [
       "1999"
      ]
     },
     "execution_count": 38,
     "metadata": {},
     "output_type": "execute_result"
    }
   ],
   "source": [
    "def min_value_index(i):\n",
    "    result = i.idxmin()\n",
    "    return result\n",
    "\n",
    "min_value_index(yld)"
   ]
  },
  {
   "cell_type": "code",
   "execution_count": 39,
   "metadata": {},
   "outputs": [
    {
     "data": {
      "text/plain": [
       "1974"
      ]
     },
     "execution_count": 39,
     "metadata": {},
     "output_type": "execute_result"
    }
   ],
   "source": [
    "def max_value_index(i):\n",
    "    result = i.idxmax()\n",
    "    return result\n",
    "\n",
    "max_value_index(yld)"
   ]
  },
  {
   "cell_type": "markdown",
   "metadata": {},
   "source": [
    "In one line of code and using the functions you wrote above, extract the respective values from the <b>price</b> series (note the different series). Use <b>loc</b> to do that."
   ]
  },
  {
   "cell_type": "code",
   "execution_count": 42,
   "metadata": {},
   "outputs": [
    {
     "data": {
      "text/plain": [
       "1248.77"
      ]
     },
     "execution_count": 42,
     "metadata": {},
     "output_type": "execute_result"
    }
   ],
   "source": [
    "min_value = price.loc[min_value_index(yld)]\n",
    "\n",
    "min_value"
   ]
  },
  {
   "cell_type": "code",
   "execution_count": 43,
   "metadata": {},
   "outputs": [
    {
     "data": {
      "text/plain": [
       "96.11"
      ]
     },
     "execution_count": 43,
     "metadata": {},
     "output_type": "execute_result"
    }
   ],
   "source": [
    "max_value = price.loc[max_value_index(yld)]\n",
    "\n",
    "max_value"
   ]
  },
  {
   "cell_type": "markdown",
   "metadata": {},
   "source": [
    "### Question 6: Extract new series (Part 1)"
   ]
  },
  {
   "cell_type": "markdown",
   "metadata": {},
   "source": [
    "Extract a new series from the original <b>yld</b> series where dividend yield is more than 4%. Place it into a variable called <i>yld_gt_four</i>"
   ]
  },
  {
   "cell_type": "code",
   "execution_count": 44,
   "metadata": {},
   "outputs": [
    {
     "data": {
      "text/plain": [
       "1974    0.0537\n",
       "1975    0.0415\n",
       "1977    0.0498\n",
       "1978    0.0528\n",
       "1979    0.0524\n",
       "1980    0.0461\n",
       "1981    0.0536\n",
       "1982    0.0493\n",
       "1983    0.0431\n",
       "1984    0.0458\n",
       "Name: sp500yield, dtype: float64"
      ]
     },
     "execution_count": 44,
     "metadata": {},
     "output_type": "execute_result"
    }
   ],
   "source": [
    "yld_gt_4 = yld[yld > 0.04]\n",
    "yld_gt_4"
   ]
  },
  {
   "cell_type": "markdown",
   "metadata": {},
   "source": [
    "Extract a new series from the original <b>yld</b> series where dividend yield is between 4% and 5%. Place it into a variable called <i>yld_btw_four_five</i>"
   ]
  },
  {
   "cell_type": "code",
   "execution_count": 47,
   "metadata": {},
   "outputs": [
    {
     "data": {
      "text/plain": [
       "1975    0.0415\n",
       "1977    0.0498\n",
       "1980    0.0461\n",
       "1982    0.0493\n",
       "1983    0.0431\n",
       "1984    0.0458\n",
       "Name: sp500yield, dtype: float64"
      ]
     },
     "execution_count": 47,
     "metadata": {},
     "output_type": "execute_result"
    }
   ],
   "source": [
    "yld_btw_four_five = yld[(yld > 0.04) & (yld < 0.05)]\n",
    "yld_btw_four_five"
   ]
  },
  {
   "cell_type": "markdown",
   "metadata": {},
   "source": [
    "Complete the function that ranks a series from the highest to the lowest by value and show only the top five records. Show both index and values of the new series. Hint: methods such as rank() and sort_values() can help. You might also have to play around with the parameters of the rank() method like ascending etc."
   ]
  },
  {
   "cell_type": "code",
   "execution_count": 53,
   "metadata": {},
   "outputs": [
    {
     "data": {
      "text/plain": [
       "1974    49.0\n",
       "1981    48.0\n",
       "1978    47.0\n",
       "1979    46.0\n",
       "1977    45.0\n",
       "Name: sp500yield, dtype: float64"
      ]
     },
     "execution_count": 53,
     "metadata": {},
     "output_type": "execute_result"
    }
   ],
   "source": [
    "def top_five_sorted(i):\n",
    "    result = i.rank().sort_values(ascending = False).head()\n",
    "    return result\n",
    "top_five_sorted(yld)"
   ]
  },
  {
   "cell_type": "markdown",
   "metadata": {},
   "source": [
    "Complete the function that ranks a series from the highest to the lowest by values and show only the bottom five records."
   ]
  },
  {
   "cell_type": "code",
   "execution_count": 54,
   "metadata": {},
   "outputs": [
    {
     "data": {
      "text/plain": [
       "2003    5.5\n",
       "2001    4.0\n",
       "1998    3.0\n",
       "2000    2.0\n",
       "1999    1.0\n",
       "Name: sp500yield, dtype: float64"
      ]
     },
     "execution_count": 54,
     "metadata": {},
     "output_type": "execute_result"
    }
   ],
   "source": [
    "def bottom_five_sorted(i):\n",
    "    result = i.rank().sort_values(ascending = False).tail()\n",
    "    return result\n",
    "bottom_five_sorted(yld)"
   ]
  },
  {
   "cell_type": "markdown",
   "metadata": {},
   "source": [
    "### Price-Earning Ratio\n",
    "\n",
    "Price/earnings ratio is one of the fundamental valuation metric we can use to determine whether what we are buying is a good investment or not. It signifies the price per share the market is quoting for each dollar of earnings of a business or a collection of businesses (like what we have in the S&P 500 index). The dictionary data below is price to earnings data by year for the S&P 500 index. Use that to create a new series called <b>pe</b>, name it <b>sp500pe</b> and answer the questions below."
   ]
  },
  {
   "cell_type": "code",
   "execution_count": 55,
   "metadata": {},
   "outputs": [],
   "source": [
    "sp500pe = {1970: 15.76, 1971: 18.12, 1972: 18.01, 1973: 18.09, 1974: 11.68, 1975: 8.3, 1976: 11.82, 1977: 10.41, 1978: 8.28, \n",
    "         1979: 7.88, 1980: 7.39, 1981: 9.02, 1982: 7.73, 1983: 11.48, 1984: 11.52, 1985: 10.36, 1986: 14.28, 1987: 18.01,\n",
    "        1988: 14.02, 1989: 11.82, 1990: 15.13, 1991: 15.35, 1992: 25.93, 1993: 22.50, 1994: 21.34, 1995: 14.89, 1996: 18.08,\n",
    "        1997: 19.53, 1998: 24.29, 1999: 32.92, 2000: 29.04, 2001: 27.55, 2002: 46.17, 2003: 31.43, 2004: 22.73, 2005: 19.99,\n",
    "        2006: 18.07, 2007: 17.36, 2008: 21.46, 2009: 70.91, 2010: 20.7, 2011: 16.3, 2012: 14.87, 2013: 17.03, 2014: 18.15,\n",
    "        2015: 20.02, 2016: 22.18, 2017: 23.59, 2018: 24.97}"
   ]
  },
  {
   "cell_type": "markdown",
   "metadata": {},
   "source": [
    "### Question 7: Extract New Series (Part 2)\n",
    "\n",
    "Create a pandas series called <b>pe</b> and call it <b>sp500pe</b>."
   ]
  },
  {
   "cell_type": "code",
   "execution_count": 56,
   "metadata": {},
   "outputs": [],
   "source": [
    "pe = pd.Series(sp500pe, name = 'sp500pe')"
   ]
  },
  {
   "cell_type": "markdown",
   "metadata": {},
   "source": [
    "In one line of code, extract the <b>five highest pe years</b> with the index sorted in ascending order. Place the new series into a variable called <i>five_highest_pe</i>."
   ]
  },
  {
   "cell_type": "code",
   "execution_count": 58,
   "metadata": {},
   "outputs": [
    {
     "data": {
      "text/plain": [
       "1999    32.92\n",
       "2000    29.04\n",
       "2002    46.17\n",
       "2003    31.43\n",
       "2009    70.91\n",
       "Name: sp500pe, dtype: float64"
      ]
     },
     "execution_count": 58,
     "metadata": {},
     "output_type": "execute_result"
    }
   ],
   "source": [
    "five_highest_pe = pe.nlargest().sort_index()\n",
    "five_highest_pe"
   ]
  },
  {
   "cell_type": "markdown",
   "metadata": {},
   "source": [
    "In one line of code, find the dividend yields for the <b>five highest pe years</b>. Use the <b>yld</b> series from before along with the <b>pe</b> series above. Place the new series into a variable called <i>five_highest_div</i>"
   ]
  },
  {
   "cell_type": "code",
   "execution_count": 60,
   "metadata": {},
   "outputs": [
    {
     "data": {
      "text/plain": [
       "2009    0.0202\n",
       "2002    0.0179\n",
       "1999    0.0117\n",
       "2003    0.0161\n",
       "2000    0.0122\n",
       "Name: sp500yield, dtype: float64"
      ]
     },
     "execution_count": 60,
     "metadata": {},
     "output_type": "execute_result"
    }
   ],
   "source": [
    "five_highest_div = yld[pe.nlargest().index]\n",
    "five_highest_div"
   ]
  },
  {
   "cell_type": "markdown",
   "metadata": {},
   "source": [
    "### Question 8: Math and Stat Functions\n",
    "EPS/price is the earnings yield and is the inverse of price/earnings. Create a new series called ep by manipulating the pe series (divide 1 by pe)."
   ]
  },
  {
   "cell_type": "code",
   "execution_count": 85,
   "metadata": {},
   "outputs": [
    {
     "data": {
      "text/plain": [
       "3.1577524322767903"
      ]
     },
     "execution_count": 85,
     "metadata": {},
     "output_type": "execute_result"
    }
   ],
   "source": [
    "ep = 1/pe\n",
    "ep.sum()"
   ]
  },
  {
   "cell_type": "markdown",
   "metadata": {},
   "source": [
    "What's the average earnings yield, the standard deviation of the yield and the highest and the lowest yield? Use math and stat functions to place them in the appropriate variables"
   ]
  },
  {
   "cell_type": "code",
   "execution_count": 64,
   "metadata": {},
   "outputs": [
    {
     "data": {
      "text/plain": [
       "0.06444392718932225"
      ]
     },
     "execution_count": 64,
     "metadata": {},
     "output_type": "execute_result"
    }
   ],
   "source": [
    "avg_ep = ep.mean()\n",
    "avg_ep"
   ]
  },
  {
   "cell_type": "code",
   "execution_count": 66,
   "metadata": {},
   "outputs": [
    {
     "data": {
      "text/plain": [
       "0.02884232590882475"
      ]
     },
     "execution_count": 66,
     "metadata": {},
     "output_type": "execute_result"
    }
   ],
   "source": [
    "st_dev_ep = ep.std()\n",
    "st_dev_ep"
   ]
  },
  {
   "cell_type": "code",
   "execution_count": 67,
   "metadata": {},
   "outputs": [
    {
     "data": {
      "text/plain": [
       "0.01410238330277817"
      ]
     },
     "execution_count": 67,
     "metadata": {},
     "output_type": "execute_result"
    }
   ],
   "source": [
    "min_ep = ep.min()\n",
    "min_ep"
   ]
  },
  {
   "cell_type": "code",
   "execution_count": 68,
   "metadata": {},
   "outputs": [
    {
     "data": {
      "text/plain": [
       "0.13531799729364005"
      ]
     },
     "execution_count": 68,
     "metadata": {},
     "output_type": "execute_result"
    }
   ],
   "source": [
    "max_ep = ep.max()\n",
    "max_ep"
   ]
  },
  {
   "cell_type": "markdown",
   "metadata": {},
   "source": [
    "In one line of code, extract all the years along with values where the earnings yield exceeded the average earnings yield, place it into a variable called <i>ep_above_avg</i>."
   ]
  },
  {
   "cell_type": "code",
   "execution_count": 69,
   "metadata": {},
   "outputs": [
    {
     "data": {
      "text/plain": [
       "1974    0.085616\n",
       "1975    0.120482\n",
       "1976    0.084602\n",
       "1977    0.096061\n",
       "1978    0.120773\n",
       "1979    0.126904\n",
       "1980    0.135318\n",
       "1981    0.110865\n",
       "1982    0.129366\n",
       "1983    0.087108\n",
       "1984    0.086806\n",
       "1985    0.096525\n",
       "1986    0.070028\n",
       "1988    0.071327\n",
       "1989    0.084602\n",
       "1990    0.066094\n",
       "1991    0.065147\n",
       "1995    0.067159\n",
       "2012    0.067249\n",
       "Name: sp500pe, dtype: float64"
      ]
     },
     "execution_count": 69,
     "metadata": {},
     "output_type": "execute_result"
    }
   ],
   "source": [
    "ep_above_avg = ep[ep > ep.mean()]\n",
    "ep_above_avg"
   ]
  },
  {
   "cell_type": "markdown",
   "metadata": {},
   "source": [
    "### Treasury Bonds\n",
    "\n",
    "Treasury bonds are assumed to be the safest of all investments in the world. The dictionary data below is percent yield by year for the ten-year Treasury bond. Take for example the first entry for the year 1970 with a yield of 7.79%. If you were to invest 100 dollars in this bond, you will technically lock your money for ten years but every year, you will receive 7.79 dollars in interest for ten years and when the term is over, you will get your initial principal of 100 dollars back. "
   ]
  },
  {
   "cell_type": "code",
   "execution_count": 70,
   "metadata": {},
   "outputs": [],
   "source": [
    "tenyr = {1970: 7.79, 1971: 6.24, 1972: 5.95, 1973: 6.46, 1974: 6.99, 1975: 7.5, 1976: 7.74, 1977: 7.21, 1978: 7.96, \n",
    "         1979: 9.1, 1980: 10.8, 1981: 12.57, 1982: 14.59, 1983: 10.46, 1984: 11.67, 1985: 11.38, 1986: 9.19, 1987: 7.08,\n",
    "        1988: 8.67, 1989: 9.09, 1990: 8.21, 1991: 8.09, 1992: 7.03, 1993: 6.6, 1994: 5.75, 1995: 7.78, 1996: 5.65,\n",
    "        1997: 6.58, 1998: 5.54, 1999: 4.72, 2000: 6.66, 2001: 5.16, 2002: 5.04, 2003: 4.05, 2004: 4.15, 2005: 4.22,\n",
    "        2006: 4.42, 2007: 4.76, 2008: 3.74, 2009: 2.52, 2010: 3.73, 2011: 3.39, 2012: 1.97, 2013: 1.91, 2014: 2.86,\n",
    "        2015: 1.88, 2016: 2.09, 2017: 2.43, 2018: 2.58}"
   ]
  },
  {
   "cell_type": "markdown",
   "metadata": {},
   "source": [
    "### Question 9: Treasury Bond Yields\n",
    "Create a new series called <b>bond_yld</b>, name it <b>tenyrbond</b>, convert to the proportion form and answer the questions below."
   ]
  },
  {
   "cell_type": "code",
   "execution_count": 71,
   "metadata": {},
   "outputs": [
    {
     "data": {
      "text/plain": [
       "1970    0.0779\n",
       "1971    0.0624\n",
       "1972    0.0595\n",
       "1973    0.0646\n",
       "1974    0.0699\n",
       "1975    0.0750\n",
       "1976    0.0774\n",
       "1977    0.0721\n",
       "1978    0.0796\n",
       "1979    0.0910\n",
       "1980    0.1080\n",
       "1981    0.1257\n",
       "1982    0.1459\n",
       "1983    0.1046\n",
       "1984    0.1167\n",
       "1985    0.1138\n",
       "1986    0.0919\n",
       "1987    0.0708\n",
       "1988    0.0867\n",
       "1989    0.0909\n",
       "1990    0.0821\n",
       "1991    0.0809\n",
       "1992    0.0703\n",
       "1993    0.0660\n",
       "1994    0.0575\n",
       "1995    0.0778\n",
       "1996    0.0565\n",
       "1997    0.0658\n",
       "1998    0.0554\n",
       "1999    0.0472\n",
       "2000    0.0666\n",
       "2001    0.0516\n",
       "2002    0.0504\n",
       "2003    0.0405\n",
       "2004    0.0415\n",
       "2005    0.0422\n",
       "2006    0.0442\n",
       "2007    0.0476\n",
       "2008    0.0374\n",
       "2009    0.0252\n",
       "2010    0.0373\n",
       "2011    0.0339\n",
       "2012    0.0197\n",
       "2013    0.0191\n",
       "2014    0.0286\n",
       "2015    0.0188\n",
       "2016    0.0209\n",
       "2017    0.0243\n",
       "2018    0.0258\n",
       "Name: tenyrbond, dtype: float64"
      ]
     },
     "execution_count": 71,
     "metadata": {},
     "output_type": "execute_result"
    }
   ],
   "source": [
    "bond_yld = pd.Series(tenyr, name = 'tenyrbond')/100\n",
    "bond_yld"
   ]
  },
  {
   "cell_type": "markdown",
   "metadata": {},
   "source": [
    "What is the mean and the standard deviation of <b>bond_yld</b>? Use math and stat functions to place them in the appropriate variables"
   ]
  },
  {
   "cell_type": "code",
   "execution_count": 72,
   "metadata": {},
   "outputs": [
    {
     "data": {
      "text/plain": [
       "0.06366326530612244"
      ]
     },
     "execution_count": 72,
     "metadata": {},
     "output_type": "execute_result"
    }
   ],
   "source": [
    "avg_bond = bond_yld.mean()\n",
    "avg_bond"
   ]
  },
  {
   "cell_type": "code",
   "execution_count": 73,
   "metadata": {},
   "outputs": [
    {
     "data": {
      "text/plain": [
       "0.02987786035036054"
      ]
     },
     "execution_count": 73,
     "metadata": {},
     "output_type": "execute_result"
    }
   ],
   "source": [
    "stdev_bond = bond_yld.std()\n",
    "stdev_bond"
   ]
  },
  {
   "cell_type": "markdown",
   "metadata": {},
   "source": [
    "Historically, inflation clocks in at around 3%. Extract a series with all the years-values where the <b>bond_yld</b> is below the inflation rate. Place it into a variable called <i>bond_yld_below_avg</i>"
   ]
  },
  {
   "cell_type": "code",
   "execution_count": 74,
   "metadata": {},
   "outputs": [
    {
     "data": {
      "text/plain": [
       "2009    0.0252\n",
       "2012    0.0197\n",
       "2013    0.0191\n",
       "2014    0.0286\n",
       "2015    0.0188\n",
       "2016    0.0209\n",
       "2017    0.0243\n",
       "2018    0.0258\n",
       "Name: tenyrbond, dtype: float64"
      ]
     },
     "execution_count": 74,
     "metadata": {},
     "output_type": "execute_result"
    }
   ],
   "source": [
    "bond_yld_below_avg = bond_yld[bond_yld < 0.03]\n",
    "bond_yld_below_avg"
   ]
  },
  {
   "cell_type": "markdown",
   "metadata": {},
   "source": [
    "In one line of code, use the years where <b>bond_yld</b> was below the rate of inflation and use those years as index to extract a new partial series out of the original earnings yield (<b>ep</b>) series for the S&P 500 index. Place it into a variable called <i>ep_low_bond_yld</i>"
   ]
  },
  {
   "cell_type": "code",
   "execution_count": 79,
   "metadata": {},
   "outputs": [
    {
     "data": {
      "text/plain": [
       "2009    0.014102\n",
       "2012    0.067249\n",
       "2013    0.058720\n",
       "2014    0.055096\n",
       "2015    0.049950\n",
       "2016    0.045086\n",
       "2017    0.042391\n",
       "2018    0.040048\n",
       "Name: sp500pe, dtype: float64"
      ]
     },
     "execution_count": 79,
     "metadata": {},
     "output_type": "execute_result"
    }
   ],
   "source": [
    "ep_low_bond_yld = ep[bond_yld_below_avg.index]\n",
    "ep_low_bond_yld"
   ]
  },
  {
   "cell_type": "markdown",
   "metadata": {},
   "source": [
    "### Question 10\n",
    "- What caused the 10-year Treasury bond yield to drop below the historical inflation rate during the last decade?\n",
    "- If you had to choose between investing in the 10-year Treasury bond or in the stock market through the S&P 500 index, where would you invest? And why?"
   ]
  },
  {
   "cell_type": "raw",
   "metadata": {},
   "source": [
    "# Answer in short answer format"
   ]
  }
 ],
 "metadata": {
  "kernelspec": {
   "display_name": "Python 3",
   "language": "python",
   "name": "python3"
  },
  "language_info": {
   "codemirror_mode": {
    "name": "ipython",
    "version": 3
   },
   "file_extension": ".py",
   "mimetype": "text/x-python",
   "name": "python",
   "nbconvert_exporter": "python",
   "pygments_lexer": "ipython3",
   "version": "3.6.5"
  }
 },
 "nbformat": 4,
 "nbformat_minor": 4
}
